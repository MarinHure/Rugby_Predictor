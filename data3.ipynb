{
 "cells": [
  {
   "cell_type": "markdown",
   "source": [
    "# 6 Nations Rugby match Predictor"
   ],
   "metadata": {
    "collapsed": false
   }
  },
  {
   "cell_type": "code",
   "execution_count": 2,
   "outputs": [],
   "source": [
    "import pandas as pd\n",
    "import numpy as np\n",
    "from sklearn.preprocessing import OneHotEncoder\n",
    "from sklearn.preprocessing import LabelEncoder\n",
    "from sklearn.preprocessing import OneHotEncoder\n",
    "from sklearn.model_selection import train_test_split\n",
    "from sklearn.preprocessing import StandardScaler\n",
    "le = LabelEncoder()\n",
    "ohe=OneHotEncoder(handle_unknown='ignore')"
   ],
   "metadata": {
    "collapsed": false
   }
  },
  {
   "cell_type": "code",
   "execution_count": 3,
   "outputs": [
    {
     "data": {
      "text/plain": "      Team  Diff  Opposition              Ground  Match Date\n0    Wales     8     v Italy  Millennium Stadium  1 Feb 2014\n1   France     2   v England     Stade de France  1 Feb 2014\n2   France    -5     v Wales     Stade de France  1 Feb 2019\n3  Ireland     7  v Scotland      Lansdowne Road  1 Feb 2020\n4    Wales    42     v Italy  Millennium Stadium  1 Feb 2020",
      "text/html": "<div>\n<style scoped>\n    .dataframe tbody tr th:only-of-type {\n        vertical-align: middle;\n    }\n\n    .dataframe tbody tr th {\n        vertical-align: top;\n    }\n\n    .dataframe thead th {\n        text-align: right;\n    }\n</style>\n<table border=\"1\" class=\"dataframe\">\n  <thead>\n    <tr style=\"text-align: right;\">\n      <th></th>\n      <th>Team</th>\n      <th>Diff</th>\n      <th>Opposition</th>\n      <th>Ground</th>\n      <th>Match Date</th>\n    </tr>\n  </thead>\n  <tbody>\n    <tr>\n      <th>0</th>\n      <td>Wales</td>\n      <td>8</td>\n      <td>v Italy</td>\n      <td>Millennium Stadium</td>\n      <td>1 Feb 2014</td>\n    </tr>\n    <tr>\n      <th>1</th>\n      <td>France</td>\n      <td>2</td>\n      <td>v England</td>\n      <td>Stade de France</td>\n      <td>1 Feb 2014</td>\n    </tr>\n    <tr>\n      <th>2</th>\n      <td>France</td>\n      <td>-5</td>\n      <td>v Wales</td>\n      <td>Stade de France</td>\n      <td>1 Feb 2019</td>\n    </tr>\n    <tr>\n      <th>3</th>\n      <td>Ireland</td>\n      <td>7</td>\n      <td>v Scotland</td>\n      <td>Lansdowne Road</td>\n      <td>1 Feb 2020</td>\n    </tr>\n    <tr>\n      <th>4</th>\n      <td>Wales</td>\n      <td>42</td>\n      <td>v Italy</td>\n      <td>Millennium Stadium</td>\n      <td>1 Feb 2020</td>\n    </tr>\n  </tbody>\n</table>\n</div>"
     },
     "execution_count": 3,
     "metadata": {},
     "output_type": "execute_result"
    }
   ],
   "source": [
    "#Lecture du dataset\n",
    "df = pd.read_csv(r'/data/HomeData.csv')\n",
    "df.head()"
   ],
   "metadata": {
    "collapsed": false
   }
  },
  {
   "cell_type": "markdown",
   "source": [
    "## NETTOYAGE DU DATASET (PREPROCESSING)"
   ],
   "metadata": {
    "collapsed": false
   }
  },
  {
   "cell_type": "code",
   "execution_count": 4,
   "outputs": [
    {
     "data": {
      "text/plain": "      Team  Opponent  Year  Diff\n0    Wales     Italy  2014     8\n1   France   England  2014     2\n2   France     Wales  2019    -5\n3  Ireland  Scotland  2020     7\n4    Wales     Italy  2020    42",
      "text/html": "<div>\n<style scoped>\n    .dataframe tbody tr th:only-of-type {\n        vertical-align: middle;\n    }\n\n    .dataframe tbody tr th {\n        vertical-align: top;\n    }\n\n    .dataframe thead th {\n        text-align: right;\n    }\n</style>\n<table border=\"1\" class=\"dataframe\">\n  <thead>\n    <tr style=\"text-align: right;\">\n      <th></th>\n      <th>Team</th>\n      <th>Opponent</th>\n      <th>Year</th>\n      <th>Diff</th>\n    </tr>\n  </thead>\n  <tbody>\n    <tr>\n      <th>0</th>\n      <td>Wales</td>\n      <td>Italy</td>\n      <td>2014</td>\n      <td>8</td>\n    </tr>\n    <tr>\n      <th>1</th>\n      <td>France</td>\n      <td>England</td>\n      <td>2014</td>\n      <td>2</td>\n    </tr>\n    <tr>\n      <th>2</th>\n      <td>France</td>\n      <td>Wales</td>\n      <td>2019</td>\n      <td>-5</td>\n    </tr>\n    <tr>\n      <th>3</th>\n      <td>Ireland</td>\n      <td>Scotland</td>\n      <td>2020</td>\n      <td>7</td>\n    </tr>\n    <tr>\n      <th>4</th>\n      <td>Wales</td>\n      <td>Italy</td>\n      <td>2020</td>\n      <td>42</td>\n    </tr>\n  </tbody>\n</table>\n</div>"
     },
     "execution_count": 4,
     "metadata": {},
     "output_type": "execute_result"
    }
   ],
   "source": [
    "year = []\n",
    "opponent = []\n",
    "for index, row in df.iterrows():\n",
    "    date = row[\"Match Date\"]  #On garde que l'année dans la date\n",
    "    year.append(date[-4:])\n",
    "for index, row in df.iterrows():\n",
    "    opp = row[\"Opposition\"]  #On enlève le v\n",
    "    opponent.append(opp[2:])\n",
    "df[\"Opponent\"] = opponent\n",
    "df[\"Year\"] = year\n",
    "\n",
    "#On retire les colonnes qui ne nous intéressent pas\n",
    "df = df.drop(\"Opposition\", axis='columns')\n",
    "df = df.drop(\"Match Date\", axis='columns')\n",
    "df = df.drop(\"Ground\", axis='columns')\n",
    "df = df[['Team', 'Opponent', 'Year', 'Diff']]\n",
    "df.head()"
   ],
   "metadata": {
    "collapsed": false
   }
  },
  {
   "cell_type": "markdown",
   "source": [
    "AJOUT DU RATING SCORE PAR ANNÉE"
   ],
   "metadata": {
    "collapsed": false
   }
  },
  {
   "cell_type": "code",
   "execution_count": 5,
   "outputs": [
    {
     "data": {
      "text/plain": "  Member Union  Tier              2003   2004   2005   2006   2007   2008  \\\n0      ENGLAND     1  High Performance  93.99  86.59  83.27  78.61  85.57   \n1      IRELAND     1  High Performance  80.53  82.61  80.03  84.67  78.67   \n2        WALES     1  High Performance  76.92  76.91  82.54  76.87  74.17   \n3       FRANCE     1  High Performance  82.71  83.70  86.10  85.87  80.36   \n4     SCOTLAND     1  High Performance  76.36  74.65  73.52  76.73  76.70   \n5        ITALY     1  High Performance  71.88  72.51  72.18  72.79  73.29   \n\n    2009   2010   2011   2012   2013   2014   2015   2016   2017   2018  \\\n0  80.87  80.72  82.48  81.58  83.90  85.70  85.68  79.76  90.47  90.88   \n1  78.51  84.60  81.79  80.65  80.22  79.33  82.13  81.17  84.63  86.40   \n2  81.03  79.89  77.04  79.61  78.39  80.19  80.70  83.49  82.56  82.09   \n3  79.51  82.41  81.66  84.70  85.07  80.87  80.07  79.77  80.14  78.11   \n4  76.75  76.59  81.20  76.20  75.83  76.56  75.16  78.01  80.71  84.13   \n5  74.56  72.59  73.31  73.99  76.24  73.13  72.05  72.79  72.50  71.27   \n\n    2019   2020  \n0  86.23  88.73  \n1  91.18  84.24  \n2  87.26  79.77  \n3  77.34  85.66  \n4  81.86  81.21  \n5  72.76  70.88  ",
      "text/html": "<div>\n<style scoped>\n    .dataframe tbody tr th:only-of-type {\n        vertical-align: middle;\n    }\n\n    .dataframe tbody tr th {\n        vertical-align: top;\n    }\n\n    .dataframe thead th {\n        text-align: right;\n    }\n</style>\n<table border=\"1\" class=\"dataframe\">\n  <thead>\n    <tr style=\"text-align: right;\">\n      <th></th>\n      <th>Member Union</th>\n      <th>Tier</th>\n      <th>2003</th>\n      <th>2004</th>\n      <th>2005</th>\n      <th>2006</th>\n      <th>2007</th>\n      <th>2008</th>\n      <th>2009</th>\n      <th>2010</th>\n      <th>2011</th>\n      <th>2012</th>\n      <th>2013</th>\n      <th>2014</th>\n      <th>2015</th>\n      <th>2016</th>\n      <th>2017</th>\n      <th>2018</th>\n      <th>2019</th>\n      <th>2020</th>\n    </tr>\n  </thead>\n  <tbody>\n    <tr>\n      <th>0</th>\n      <td>ENGLAND</td>\n      <td>1</td>\n      <td>High Performance</td>\n      <td>93.99</td>\n      <td>86.59</td>\n      <td>83.27</td>\n      <td>78.61</td>\n      <td>85.57</td>\n      <td>80.87</td>\n      <td>80.72</td>\n      <td>82.48</td>\n      <td>81.58</td>\n      <td>83.90</td>\n      <td>85.70</td>\n      <td>85.68</td>\n      <td>79.76</td>\n      <td>90.47</td>\n      <td>90.88</td>\n      <td>86.23</td>\n      <td>88.73</td>\n    </tr>\n    <tr>\n      <th>1</th>\n      <td>IRELAND</td>\n      <td>1</td>\n      <td>High Performance</td>\n      <td>80.53</td>\n      <td>82.61</td>\n      <td>80.03</td>\n      <td>84.67</td>\n      <td>78.67</td>\n      <td>78.51</td>\n      <td>84.60</td>\n      <td>81.79</td>\n      <td>80.65</td>\n      <td>80.22</td>\n      <td>79.33</td>\n      <td>82.13</td>\n      <td>81.17</td>\n      <td>84.63</td>\n      <td>86.40</td>\n      <td>91.18</td>\n      <td>84.24</td>\n    </tr>\n    <tr>\n      <th>2</th>\n      <td>WALES</td>\n      <td>1</td>\n      <td>High Performance</td>\n      <td>76.92</td>\n      <td>76.91</td>\n      <td>82.54</td>\n      <td>76.87</td>\n      <td>74.17</td>\n      <td>81.03</td>\n      <td>79.89</td>\n      <td>77.04</td>\n      <td>79.61</td>\n      <td>78.39</td>\n      <td>80.19</td>\n      <td>80.70</td>\n      <td>83.49</td>\n      <td>82.56</td>\n      <td>82.09</td>\n      <td>87.26</td>\n      <td>79.77</td>\n    </tr>\n    <tr>\n      <th>3</th>\n      <td>FRANCE</td>\n      <td>1</td>\n      <td>High Performance</td>\n      <td>82.71</td>\n      <td>83.70</td>\n      <td>86.10</td>\n      <td>85.87</td>\n      <td>80.36</td>\n      <td>79.51</td>\n      <td>82.41</td>\n      <td>81.66</td>\n      <td>84.70</td>\n      <td>85.07</td>\n      <td>80.87</td>\n      <td>80.07</td>\n      <td>79.77</td>\n      <td>80.14</td>\n      <td>78.11</td>\n      <td>77.34</td>\n      <td>85.66</td>\n    </tr>\n    <tr>\n      <th>4</th>\n      <td>SCOTLAND</td>\n      <td>1</td>\n      <td>High Performance</td>\n      <td>76.36</td>\n      <td>74.65</td>\n      <td>73.52</td>\n      <td>76.73</td>\n      <td>76.70</td>\n      <td>76.75</td>\n      <td>76.59</td>\n      <td>81.20</td>\n      <td>76.20</td>\n      <td>75.83</td>\n      <td>76.56</td>\n      <td>75.16</td>\n      <td>78.01</td>\n      <td>80.71</td>\n      <td>84.13</td>\n      <td>81.86</td>\n      <td>81.21</td>\n    </tr>\n    <tr>\n      <th>5</th>\n      <td>ITALY</td>\n      <td>1</td>\n      <td>High Performance</td>\n      <td>71.88</td>\n      <td>72.51</td>\n      <td>72.18</td>\n      <td>72.79</td>\n      <td>73.29</td>\n      <td>74.56</td>\n      <td>72.59</td>\n      <td>73.31</td>\n      <td>73.99</td>\n      <td>76.24</td>\n      <td>73.13</td>\n      <td>72.05</td>\n      <td>72.79</td>\n      <td>72.50</td>\n      <td>71.27</td>\n      <td>72.76</td>\n      <td>70.88</td>\n    </tr>\n  </tbody>\n</table>\n</div>"
     },
     "execution_count": 5,
     "metadata": {},
     "output_type": "execute_result"
    }
   ],
   "source": [
    "rating = pd.read_csv(r'/data/RugbyStats.csv')\n",
    "rating"
   ],
   "metadata": {
    "collapsed": false
   }
  },
  {
   "cell_type": "code",
   "execution_count": 6,
   "outputs": [
    {
     "data": {
      "text/plain": "         Team  Opponent  Year  Diff  home_standing  away_standing\n0       Wales     Italy  2014     8          80.19          73.13\n1      France   England  2014     2          80.87          85.70\n2      France     Wales  2019    -5          77.34          87.26\n3     Ireland  Scotland  2020     7          84.24          81.21\n4       Wales     Italy  2020    42          79.77          70.88\n..        ...       ...   ...   ...            ...            ...\n250   Ireland    France  2013     0          80.22          85.07\n251  Scotland     Wales  2013   -10          75.83          78.39\n252   England     Wales  2014    11          85.70          80.19\n253  Scotland     Wales  2019    -7          81.86          87.26\n254   England     Italy  2019    43          86.23          72.76\n\n[255 rows x 6 columns]",
      "text/html": "<div>\n<style scoped>\n    .dataframe tbody tr th:only-of-type {\n        vertical-align: middle;\n    }\n\n    .dataframe tbody tr th {\n        vertical-align: top;\n    }\n\n    .dataframe thead th {\n        text-align: right;\n    }\n</style>\n<table border=\"1\" class=\"dataframe\">\n  <thead>\n    <tr style=\"text-align: right;\">\n      <th></th>\n      <th>Team</th>\n      <th>Opponent</th>\n      <th>Year</th>\n      <th>Diff</th>\n      <th>home_standing</th>\n      <th>away_standing</th>\n    </tr>\n  </thead>\n  <tbody>\n    <tr>\n      <th>0</th>\n      <td>Wales</td>\n      <td>Italy</td>\n      <td>2014</td>\n      <td>8</td>\n      <td>80.19</td>\n      <td>73.13</td>\n    </tr>\n    <tr>\n      <th>1</th>\n      <td>France</td>\n      <td>England</td>\n      <td>2014</td>\n      <td>2</td>\n      <td>80.87</td>\n      <td>85.70</td>\n    </tr>\n    <tr>\n      <th>2</th>\n      <td>France</td>\n      <td>Wales</td>\n      <td>2019</td>\n      <td>-5</td>\n      <td>77.34</td>\n      <td>87.26</td>\n    </tr>\n    <tr>\n      <th>3</th>\n      <td>Ireland</td>\n      <td>Scotland</td>\n      <td>2020</td>\n      <td>7</td>\n      <td>84.24</td>\n      <td>81.21</td>\n    </tr>\n    <tr>\n      <th>4</th>\n      <td>Wales</td>\n      <td>Italy</td>\n      <td>2020</td>\n      <td>42</td>\n      <td>79.77</td>\n      <td>70.88</td>\n    </tr>\n    <tr>\n      <th>...</th>\n      <td>...</td>\n      <td>...</td>\n      <td>...</td>\n      <td>...</td>\n      <td>...</td>\n      <td>...</td>\n    </tr>\n    <tr>\n      <th>250</th>\n      <td>Ireland</td>\n      <td>France</td>\n      <td>2013</td>\n      <td>0</td>\n      <td>80.22</td>\n      <td>85.07</td>\n    </tr>\n    <tr>\n      <th>251</th>\n      <td>Scotland</td>\n      <td>Wales</td>\n      <td>2013</td>\n      <td>-10</td>\n      <td>75.83</td>\n      <td>78.39</td>\n    </tr>\n    <tr>\n      <th>252</th>\n      <td>England</td>\n      <td>Wales</td>\n      <td>2014</td>\n      <td>11</td>\n      <td>85.70</td>\n      <td>80.19</td>\n    </tr>\n    <tr>\n      <th>253</th>\n      <td>Scotland</td>\n      <td>Wales</td>\n      <td>2019</td>\n      <td>-7</td>\n      <td>81.86</td>\n      <td>87.26</td>\n    </tr>\n    <tr>\n      <th>254</th>\n      <td>England</td>\n      <td>Italy</td>\n      <td>2019</td>\n      <td>43</td>\n      <td>86.23</td>\n      <td>72.76</td>\n    </tr>\n  </tbody>\n</table>\n<p>255 rows × 6 columns</p>\n</div>"
     },
     "execution_count": 6,
     "metadata": {},
     "output_type": "execute_result"
    }
   ],
   "source": [
    "standing_home = []\n",
    "standing_away = []\n",
    "\n",
    "# function so given a team and a year I can locate the standing in the standing dataframe and return it.\n",
    "\n",
    "def get_standing(team, year):\n",
    "    number = 0\n",
    "    if team == \"England\":\n",
    "        number = 0\n",
    "    elif team == \"Ireland\":\n",
    "        number = 1\n",
    "    elif team == \"Wales\":\n",
    "        number = 2\n",
    "    elif team == \"France\":\n",
    "        number = 3\n",
    "    elif team == \"Scotland\":\n",
    "        number = 4\n",
    "    else:\n",
    "        number = 5\n",
    "    standing = rating.at[number, year]\n",
    "    return standing\n",
    "\n",
    "\n",
    "for index, row in df.iterrows():\n",
    "    standing_home.append(get_standing(row[\"Team\"], row[\"Year\"]))\n",
    "    standing_away.append(get_standing(row[\"Opponent\"], row[\"Year\"]))\n",
    "\n",
    "df[\"home_standing\"] = standing_home\n",
    "df[\"away_standing\"] = standing_away\n",
    "\n",
    "df"
   ],
   "metadata": {
    "collapsed": false
   }
  },
  {
   "cell_type": "markdown",
   "source": [
    "ON TRANSFORME LES VALEURS CATÉGORIELLES EN VALEURS NUMÉRIQUES (ONE HOT ENCODER)"
   ],
   "metadata": {
    "collapsed": false
   }
  },
  {
   "cell_type": "code",
   "execution_count": 7,
   "outputs": [
    {
     "data": {
      "text/plain": "      Team  Opponent  Year  Diff  home_standing  away_standing    0    1    2  \\\n0    Wales     Italy  2014     8          80.19          73.13  0.0  0.0  0.0   \n1   France   England  2014     2          80.87          85.70  0.0  1.0  0.0   \n2   France     Wales  2019    -5          77.34          87.26  0.0  1.0  0.0   \n3  Ireland  Scotland  2020     7          84.24          81.21  0.0  0.0  1.0   \n4    Wales     Italy  2020    42          79.77          70.88  0.0  0.0  0.0   \n\n     3    4    5  \n0  0.0  0.0  1.0  \n1  0.0  0.0  0.0  \n2  0.0  0.0  0.0  \n3  0.0  0.0  0.0  \n4  0.0  0.0  1.0  ",
      "text/html": "<div>\n<style scoped>\n    .dataframe tbody tr th:only-of-type {\n        vertical-align: middle;\n    }\n\n    .dataframe tbody tr th {\n        vertical-align: top;\n    }\n\n    .dataframe thead th {\n        text-align: right;\n    }\n</style>\n<table border=\"1\" class=\"dataframe\">\n  <thead>\n    <tr style=\"text-align: right;\">\n      <th></th>\n      <th>Team</th>\n      <th>Opponent</th>\n      <th>Year</th>\n      <th>Diff</th>\n      <th>home_standing</th>\n      <th>away_standing</th>\n      <th>0</th>\n      <th>1</th>\n      <th>2</th>\n      <th>3</th>\n      <th>4</th>\n      <th>5</th>\n    </tr>\n  </thead>\n  <tbody>\n    <tr>\n      <th>0</th>\n      <td>Wales</td>\n      <td>Italy</td>\n      <td>2014</td>\n      <td>8</td>\n      <td>80.19</td>\n      <td>73.13</td>\n      <td>0.0</td>\n      <td>0.0</td>\n      <td>0.0</td>\n      <td>0.0</td>\n      <td>0.0</td>\n      <td>1.0</td>\n    </tr>\n    <tr>\n      <th>1</th>\n      <td>France</td>\n      <td>England</td>\n      <td>2014</td>\n      <td>2</td>\n      <td>80.87</td>\n      <td>85.70</td>\n      <td>0.0</td>\n      <td>1.0</td>\n      <td>0.0</td>\n      <td>0.0</td>\n      <td>0.0</td>\n      <td>0.0</td>\n    </tr>\n    <tr>\n      <th>2</th>\n      <td>France</td>\n      <td>Wales</td>\n      <td>2019</td>\n      <td>-5</td>\n      <td>77.34</td>\n      <td>87.26</td>\n      <td>0.0</td>\n      <td>1.0</td>\n      <td>0.0</td>\n      <td>0.0</td>\n      <td>0.0</td>\n      <td>0.0</td>\n    </tr>\n    <tr>\n      <th>3</th>\n      <td>Ireland</td>\n      <td>Scotland</td>\n      <td>2020</td>\n      <td>7</td>\n      <td>84.24</td>\n      <td>81.21</td>\n      <td>0.0</td>\n      <td>0.0</td>\n      <td>1.0</td>\n      <td>0.0</td>\n      <td>0.0</td>\n      <td>0.0</td>\n    </tr>\n    <tr>\n      <th>4</th>\n      <td>Wales</td>\n      <td>Italy</td>\n      <td>2020</td>\n      <td>42</td>\n      <td>79.77</td>\n      <td>70.88</td>\n      <td>0.0</td>\n      <td>0.0</td>\n      <td>0.0</td>\n      <td>0.0</td>\n      <td>0.0</td>\n      <td>1.0</td>\n    </tr>\n  </tbody>\n</table>\n</div>"
     },
     "execution_count": 7,
     "metadata": {},
     "output_type": "execute_result"
    }
   ],
   "source": [
    "#One hot encoding de la colonne Team\n",
    "num_team = pd.DataFrame(ohe.fit_transform(df[['Team']]).toarray())\n",
    "df = df.join(num_team)\n",
    "df.head()"
   ],
   "metadata": {
    "collapsed": false
   }
  },
  {
   "cell_type": "code",
   "execution_count": 8,
   "outputs": [
    {
     "data": {
      "text/plain": "      Team  Opponent  Year  Diff  home_standing  away_standing  Team_0  \\\n0    Wales     Italy  2014     8          80.19          73.13     0.0   \n1   France   England  2014     2          80.87          85.70     0.0   \n2   France     Wales  2019    -5          77.34          87.26     0.0   \n3  Ireland  Scotland  2020     7          84.24          81.21     0.0   \n4    Wales     Italy  2020    42          79.77          70.88     0.0   \n\n   Team_1  Team_2  Team_3  Team_4  Team_5  \n0     0.0     0.0     0.0     0.0     1.0  \n1     1.0     0.0     0.0     0.0     0.0  \n2     1.0     0.0     0.0     0.0     0.0  \n3     0.0     1.0     0.0     0.0     0.0  \n4     0.0     0.0     0.0     0.0     1.0  ",
      "text/html": "<div>\n<style scoped>\n    .dataframe tbody tr th:only-of-type {\n        vertical-align: middle;\n    }\n\n    .dataframe tbody tr th {\n        vertical-align: top;\n    }\n\n    .dataframe thead th {\n        text-align: right;\n    }\n</style>\n<table border=\"1\" class=\"dataframe\">\n  <thead>\n    <tr style=\"text-align: right;\">\n      <th></th>\n      <th>Team</th>\n      <th>Opponent</th>\n      <th>Year</th>\n      <th>Diff</th>\n      <th>home_standing</th>\n      <th>away_standing</th>\n      <th>Team_0</th>\n      <th>Team_1</th>\n      <th>Team_2</th>\n      <th>Team_3</th>\n      <th>Team_4</th>\n      <th>Team_5</th>\n    </tr>\n  </thead>\n  <tbody>\n    <tr>\n      <th>0</th>\n      <td>Wales</td>\n      <td>Italy</td>\n      <td>2014</td>\n      <td>8</td>\n      <td>80.19</td>\n      <td>73.13</td>\n      <td>0.0</td>\n      <td>0.0</td>\n      <td>0.0</td>\n      <td>0.0</td>\n      <td>0.0</td>\n      <td>1.0</td>\n    </tr>\n    <tr>\n      <th>1</th>\n      <td>France</td>\n      <td>England</td>\n      <td>2014</td>\n      <td>2</td>\n      <td>80.87</td>\n      <td>85.70</td>\n      <td>0.0</td>\n      <td>1.0</td>\n      <td>0.0</td>\n      <td>0.0</td>\n      <td>0.0</td>\n      <td>0.0</td>\n    </tr>\n    <tr>\n      <th>2</th>\n      <td>France</td>\n      <td>Wales</td>\n      <td>2019</td>\n      <td>-5</td>\n      <td>77.34</td>\n      <td>87.26</td>\n      <td>0.0</td>\n      <td>1.0</td>\n      <td>0.0</td>\n      <td>0.0</td>\n      <td>0.0</td>\n      <td>0.0</td>\n    </tr>\n    <tr>\n      <th>3</th>\n      <td>Ireland</td>\n      <td>Scotland</td>\n      <td>2020</td>\n      <td>7</td>\n      <td>84.24</td>\n      <td>81.21</td>\n      <td>0.0</td>\n      <td>0.0</td>\n      <td>1.0</td>\n      <td>0.0</td>\n      <td>0.0</td>\n      <td>0.0</td>\n    </tr>\n    <tr>\n      <th>4</th>\n      <td>Wales</td>\n      <td>Italy</td>\n      <td>2020</td>\n      <td>42</td>\n      <td>79.77</td>\n      <td>70.88</td>\n      <td>0.0</td>\n      <td>0.0</td>\n      <td>0.0</td>\n      <td>0.0</td>\n      <td>0.0</td>\n      <td>1.0</td>\n    </tr>\n  </tbody>\n</table>\n</div>"
     },
     "execution_count": 8,
     "metadata": {},
     "output_type": "execute_result"
    }
   ],
   "source": [
    "#On renomme les colonnes transformées\n",
    "df.rename(columns = {0:'Team_0'}, inplace = True)\n",
    "df.rename(columns = {1:'Team_1'}, inplace = True)\n",
    "df.rename(columns = {2:'Team_2'}, inplace = True)\n",
    "df.rename(columns = {3:'Team_3'}, inplace = True)\n",
    "df.rename(columns = {4:'Team_4'}, inplace = True)\n",
    "df.rename(columns = {5:'Team_5'}, inplace = True)\n",
    "\n",
    "df.head()"
   ],
   "metadata": {
    "collapsed": false
   }
  },
  {
   "cell_type": "code",
   "execution_count": 9,
   "outputs": [
    {
     "data": {
      "text/plain": "      Team  Opponent  Year  Diff  home_standing  away_standing  Team_0  \\\n0    Wales     Italy  2014     8          80.19          73.13     0.0   \n1   France   England  2014     2          80.87          85.70     0.0   \n2   France     Wales  2019    -5          77.34          87.26     0.0   \n3  Ireland  Scotland  2020     7          84.24          81.21     0.0   \n4    Wales     Italy  2020    42          79.77          70.88     0.0   \n\n   Team_1  Team_2  Team_3  Team_4  Team_5    0    1    2    3    4    5  \n0     0.0     0.0     0.0     0.0     1.0  0.0  0.0  0.0  1.0  0.0  0.0  \n1     1.0     0.0     0.0     0.0     0.0  1.0  0.0  0.0  0.0  0.0  0.0  \n2     1.0     0.0     0.0     0.0     0.0  0.0  0.0  0.0  0.0  0.0  1.0  \n3     0.0     1.0     0.0     0.0     0.0  0.0  0.0  0.0  0.0  1.0  0.0  \n4     0.0     0.0     0.0     0.0     1.0  0.0  0.0  0.0  1.0  0.0  0.0  ",
      "text/html": "<div>\n<style scoped>\n    .dataframe tbody tr th:only-of-type {\n        vertical-align: middle;\n    }\n\n    .dataframe tbody tr th {\n        vertical-align: top;\n    }\n\n    .dataframe thead th {\n        text-align: right;\n    }\n</style>\n<table border=\"1\" class=\"dataframe\">\n  <thead>\n    <tr style=\"text-align: right;\">\n      <th></th>\n      <th>Team</th>\n      <th>Opponent</th>\n      <th>Year</th>\n      <th>Diff</th>\n      <th>home_standing</th>\n      <th>away_standing</th>\n      <th>Team_0</th>\n      <th>Team_1</th>\n      <th>Team_2</th>\n      <th>Team_3</th>\n      <th>Team_4</th>\n      <th>Team_5</th>\n      <th>0</th>\n      <th>1</th>\n      <th>2</th>\n      <th>3</th>\n      <th>4</th>\n      <th>5</th>\n    </tr>\n  </thead>\n  <tbody>\n    <tr>\n      <th>0</th>\n      <td>Wales</td>\n      <td>Italy</td>\n      <td>2014</td>\n      <td>8</td>\n      <td>80.19</td>\n      <td>73.13</td>\n      <td>0.0</td>\n      <td>0.0</td>\n      <td>0.0</td>\n      <td>0.0</td>\n      <td>0.0</td>\n      <td>1.0</td>\n      <td>0.0</td>\n      <td>0.0</td>\n      <td>0.0</td>\n      <td>1.0</td>\n      <td>0.0</td>\n      <td>0.0</td>\n    </tr>\n    <tr>\n      <th>1</th>\n      <td>France</td>\n      <td>England</td>\n      <td>2014</td>\n      <td>2</td>\n      <td>80.87</td>\n      <td>85.70</td>\n      <td>0.0</td>\n      <td>1.0</td>\n      <td>0.0</td>\n      <td>0.0</td>\n      <td>0.0</td>\n      <td>0.0</td>\n      <td>1.0</td>\n      <td>0.0</td>\n      <td>0.0</td>\n      <td>0.0</td>\n      <td>0.0</td>\n      <td>0.0</td>\n    </tr>\n    <tr>\n      <th>2</th>\n      <td>France</td>\n      <td>Wales</td>\n      <td>2019</td>\n      <td>-5</td>\n      <td>77.34</td>\n      <td>87.26</td>\n      <td>0.0</td>\n      <td>1.0</td>\n      <td>0.0</td>\n      <td>0.0</td>\n      <td>0.0</td>\n      <td>0.0</td>\n      <td>0.0</td>\n      <td>0.0</td>\n      <td>0.0</td>\n      <td>0.0</td>\n      <td>0.0</td>\n      <td>1.0</td>\n    </tr>\n    <tr>\n      <th>3</th>\n      <td>Ireland</td>\n      <td>Scotland</td>\n      <td>2020</td>\n      <td>7</td>\n      <td>84.24</td>\n      <td>81.21</td>\n      <td>0.0</td>\n      <td>0.0</td>\n      <td>1.0</td>\n      <td>0.0</td>\n      <td>0.0</td>\n      <td>0.0</td>\n      <td>0.0</td>\n      <td>0.0</td>\n      <td>0.0</td>\n      <td>0.0</td>\n      <td>1.0</td>\n      <td>0.0</td>\n    </tr>\n    <tr>\n      <th>4</th>\n      <td>Wales</td>\n      <td>Italy</td>\n      <td>2020</td>\n      <td>42</td>\n      <td>79.77</td>\n      <td>70.88</td>\n      <td>0.0</td>\n      <td>0.0</td>\n      <td>0.0</td>\n      <td>0.0</td>\n      <td>0.0</td>\n      <td>1.0</td>\n      <td>0.0</td>\n      <td>0.0</td>\n      <td>0.0</td>\n      <td>1.0</td>\n      <td>0.0</td>\n      <td>0.0</td>\n    </tr>\n  </tbody>\n</table>\n</div>"
     },
     "execution_count": 9,
     "metadata": {},
     "output_type": "execute_result"
    }
   ],
   "source": [
    "#One Hot Encoding de la colonne Opponent\n",
    "num_opponent = pd.DataFrame(ohe.fit_transform(df[['Opponent']]).toarray())\n",
    "df = df.join(num_opponent)\n",
    "df.head()"
   ],
   "metadata": {
    "collapsed": false
   }
  },
  {
   "cell_type": "code",
   "execution_count": 10,
   "outputs": [
    {
     "data": {
      "text/plain": "         Team  Opponent  Year  Diff  home_standing  away_standing  Team_0  \\\n0       Wales     Italy  2014     8          80.19          73.13     0.0   \n1      France   England  2014     2          80.87          85.70     0.0   \n2      France     Wales  2019    -5          77.34          87.26     0.0   \n3     Ireland  Scotland  2020     7          84.24          81.21     0.0   \n4       Wales     Italy  2020    42          79.77          70.88     0.0   \n..        ...       ...   ...   ...            ...            ...     ...   \n250   Ireland    France  2013     0          80.22          85.07     0.0   \n251  Scotland     Wales  2013   -10          75.83          78.39     0.0   \n252   England     Wales  2014    11          85.70          80.19     1.0   \n253  Scotland     Wales  2019    -7          81.86          87.26     0.0   \n254   England     Italy  2019    43          86.23          72.76     1.0   \n\n     Team_1  Team_2  Team_3  Team_4  Team_5  Opponent_0  Opponent_1  \\\n0       0.0     0.0     0.0     0.0     1.0         0.0         0.0   \n1       1.0     0.0     0.0     0.0     0.0         1.0         0.0   \n2       1.0     0.0     0.0     0.0     0.0         0.0         0.0   \n3       0.0     1.0     0.0     0.0     0.0         0.0         0.0   \n4       0.0     0.0     0.0     0.0     1.0         0.0         0.0   \n..      ...     ...     ...     ...     ...         ...         ...   \n250     0.0     1.0     0.0     0.0     0.0         0.0         1.0   \n251     0.0     0.0     0.0     1.0     0.0         0.0         0.0   \n252     0.0     0.0     0.0     0.0     0.0         0.0         0.0   \n253     0.0     0.0     0.0     1.0     0.0         0.0         0.0   \n254     0.0     0.0     0.0     0.0     0.0         0.0         0.0   \n\n     Opponent_2  Opponent_3  Opponent_4  Opponent_5  \n0           0.0         1.0         0.0         0.0  \n1           0.0         0.0         0.0         0.0  \n2           0.0         0.0         0.0         1.0  \n3           0.0         0.0         1.0         0.0  \n4           0.0         1.0         0.0         0.0  \n..          ...         ...         ...         ...  \n250         0.0         0.0         0.0         0.0  \n251         0.0         0.0         0.0         1.0  \n252         0.0         0.0         0.0         1.0  \n253         0.0         0.0         0.0         1.0  \n254         0.0         1.0         0.0         0.0  \n\n[255 rows x 18 columns]",
      "text/html": "<div>\n<style scoped>\n    .dataframe tbody tr th:only-of-type {\n        vertical-align: middle;\n    }\n\n    .dataframe tbody tr th {\n        vertical-align: top;\n    }\n\n    .dataframe thead th {\n        text-align: right;\n    }\n</style>\n<table border=\"1\" class=\"dataframe\">\n  <thead>\n    <tr style=\"text-align: right;\">\n      <th></th>\n      <th>Team</th>\n      <th>Opponent</th>\n      <th>Year</th>\n      <th>Diff</th>\n      <th>home_standing</th>\n      <th>away_standing</th>\n      <th>Team_0</th>\n      <th>Team_1</th>\n      <th>Team_2</th>\n      <th>Team_3</th>\n      <th>Team_4</th>\n      <th>Team_5</th>\n      <th>Opponent_0</th>\n      <th>Opponent_1</th>\n      <th>Opponent_2</th>\n      <th>Opponent_3</th>\n      <th>Opponent_4</th>\n      <th>Opponent_5</th>\n    </tr>\n  </thead>\n  <tbody>\n    <tr>\n      <th>0</th>\n      <td>Wales</td>\n      <td>Italy</td>\n      <td>2014</td>\n      <td>8</td>\n      <td>80.19</td>\n      <td>73.13</td>\n      <td>0.0</td>\n      <td>0.0</td>\n      <td>0.0</td>\n      <td>0.0</td>\n      <td>0.0</td>\n      <td>1.0</td>\n      <td>0.0</td>\n      <td>0.0</td>\n      <td>0.0</td>\n      <td>1.0</td>\n      <td>0.0</td>\n      <td>0.0</td>\n    </tr>\n    <tr>\n      <th>1</th>\n      <td>France</td>\n      <td>England</td>\n      <td>2014</td>\n      <td>2</td>\n      <td>80.87</td>\n      <td>85.70</td>\n      <td>0.0</td>\n      <td>1.0</td>\n      <td>0.0</td>\n      <td>0.0</td>\n      <td>0.0</td>\n      <td>0.0</td>\n      <td>1.0</td>\n      <td>0.0</td>\n      <td>0.0</td>\n      <td>0.0</td>\n      <td>0.0</td>\n      <td>0.0</td>\n    </tr>\n    <tr>\n      <th>2</th>\n      <td>France</td>\n      <td>Wales</td>\n      <td>2019</td>\n      <td>-5</td>\n      <td>77.34</td>\n      <td>87.26</td>\n      <td>0.0</td>\n      <td>1.0</td>\n      <td>0.0</td>\n      <td>0.0</td>\n      <td>0.0</td>\n      <td>0.0</td>\n      <td>0.0</td>\n      <td>0.0</td>\n      <td>0.0</td>\n      <td>0.0</td>\n      <td>0.0</td>\n      <td>1.0</td>\n    </tr>\n    <tr>\n      <th>3</th>\n      <td>Ireland</td>\n      <td>Scotland</td>\n      <td>2020</td>\n      <td>7</td>\n      <td>84.24</td>\n      <td>81.21</td>\n      <td>0.0</td>\n      <td>0.0</td>\n      <td>1.0</td>\n      <td>0.0</td>\n      <td>0.0</td>\n      <td>0.0</td>\n      <td>0.0</td>\n      <td>0.0</td>\n      <td>0.0</td>\n      <td>0.0</td>\n      <td>1.0</td>\n      <td>0.0</td>\n    </tr>\n    <tr>\n      <th>4</th>\n      <td>Wales</td>\n      <td>Italy</td>\n      <td>2020</td>\n      <td>42</td>\n      <td>79.77</td>\n      <td>70.88</td>\n      <td>0.0</td>\n      <td>0.0</td>\n      <td>0.0</td>\n      <td>0.0</td>\n      <td>0.0</td>\n      <td>1.0</td>\n      <td>0.0</td>\n      <td>0.0</td>\n      <td>0.0</td>\n      <td>1.0</td>\n      <td>0.0</td>\n      <td>0.0</td>\n    </tr>\n    <tr>\n      <th>...</th>\n      <td>...</td>\n      <td>...</td>\n      <td>...</td>\n      <td>...</td>\n      <td>...</td>\n      <td>...</td>\n      <td>...</td>\n      <td>...</td>\n      <td>...</td>\n      <td>...</td>\n      <td>...</td>\n      <td>...</td>\n      <td>...</td>\n      <td>...</td>\n      <td>...</td>\n      <td>...</td>\n      <td>...</td>\n      <td>...</td>\n    </tr>\n    <tr>\n      <th>250</th>\n      <td>Ireland</td>\n      <td>France</td>\n      <td>2013</td>\n      <td>0</td>\n      <td>80.22</td>\n      <td>85.07</td>\n      <td>0.0</td>\n      <td>0.0</td>\n      <td>1.0</td>\n      <td>0.0</td>\n      <td>0.0</td>\n      <td>0.0</td>\n      <td>0.0</td>\n      <td>1.0</td>\n      <td>0.0</td>\n      <td>0.0</td>\n      <td>0.0</td>\n      <td>0.0</td>\n    </tr>\n    <tr>\n      <th>251</th>\n      <td>Scotland</td>\n      <td>Wales</td>\n      <td>2013</td>\n      <td>-10</td>\n      <td>75.83</td>\n      <td>78.39</td>\n      <td>0.0</td>\n      <td>0.0</td>\n      <td>0.0</td>\n      <td>0.0</td>\n      <td>1.0</td>\n      <td>0.0</td>\n      <td>0.0</td>\n      <td>0.0</td>\n      <td>0.0</td>\n      <td>0.0</td>\n      <td>0.0</td>\n      <td>1.0</td>\n    </tr>\n    <tr>\n      <th>252</th>\n      <td>England</td>\n      <td>Wales</td>\n      <td>2014</td>\n      <td>11</td>\n      <td>85.70</td>\n      <td>80.19</td>\n      <td>1.0</td>\n      <td>0.0</td>\n      <td>0.0</td>\n      <td>0.0</td>\n      <td>0.0</td>\n      <td>0.0</td>\n      <td>0.0</td>\n      <td>0.0</td>\n      <td>0.0</td>\n      <td>0.0</td>\n      <td>0.0</td>\n      <td>1.0</td>\n    </tr>\n    <tr>\n      <th>253</th>\n      <td>Scotland</td>\n      <td>Wales</td>\n      <td>2019</td>\n      <td>-7</td>\n      <td>81.86</td>\n      <td>87.26</td>\n      <td>0.0</td>\n      <td>0.0</td>\n      <td>0.0</td>\n      <td>0.0</td>\n      <td>1.0</td>\n      <td>0.0</td>\n      <td>0.0</td>\n      <td>0.0</td>\n      <td>0.0</td>\n      <td>0.0</td>\n      <td>0.0</td>\n      <td>1.0</td>\n    </tr>\n    <tr>\n      <th>254</th>\n      <td>England</td>\n      <td>Italy</td>\n      <td>2019</td>\n      <td>43</td>\n      <td>86.23</td>\n      <td>72.76</td>\n      <td>1.0</td>\n      <td>0.0</td>\n      <td>0.0</td>\n      <td>0.0</td>\n      <td>0.0</td>\n      <td>0.0</td>\n      <td>0.0</td>\n      <td>0.0</td>\n      <td>0.0</td>\n      <td>1.0</td>\n      <td>0.0</td>\n      <td>0.0</td>\n    </tr>\n  </tbody>\n</table>\n<p>255 rows × 18 columns</p>\n</div>"
     },
     "execution_count": 10,
     "metadata": {},
     "output_type": "execute_result"
    }
   ],
   "source": [
    "#On renomme les colonnes transformées\n",
    "df.rename(columns = {0:'Opponent_0'}, inplace = True)\n",
    "df.rename(columns = {1:'Opponent_1'}, inplace = True)\n",
    "df.rename(columns = {2:'Opponent_2'}, inplace = True)\n",
    "df.rename(columns = {3:'Opponent_3'}, inplace = True)\n",
    "df.rename(columns = {4:'Opponent_4'}, inplace = True)\n",
    "df.rename(columns = {5:'Opponent_5'}, inplace = True)\n",
    "\n",
    "df"
   ],
   "metadata": {
    "collapsed": false
   }
  },
  {
   "cell_type": "code",
   "execution_count": 11,
   "outputs": [
    {
     "data": {
      "text/plain": "   Year  Diff  home_standing  away_standing  Team_0  Team_1  Team_2  Team_3  \\\n0  2014     8          80.19          73.13     0.0     0.0     0.0     0.0   \n1  2014     2          80.87          85.70     0.0     1.0     0.0     0.0   \n2  2019    -5          77.34          87.26     0.0     1.0     0.0     0.0   \n3  2020     7          84.24          81.21     0.0     0.0     1.0     0.0   \n4  2020    42          79.77          70.88     0.0     0.0     0.0     0.0   \n\n   Team_4  Team_5  Opponent_0  Opponent_1  Opponent_2  Opponent_3  Opponent_4  \\\n0     0.0     1.0         0.0         0.0         0.0         1.0         0.0   \n1     0.0     0.0         1.0         0.0         0.0         0.0         0.0   \n2     0.0     0.0         0.0         0.0         0.0         0.0         0.0   \n3     0.0     0.0         0.0         0.0         0.0         0.0         1.0   \n4     0.0     1.0         0.0         0.0         0.0         1.0         0.0   \n\n   Opponent_5  \n0         0.0  \n1         0.0  \n2         1.0  \n3         0.0  \n4         0.0  ",
      "text/html": "<div>\n<style scoped>\n    .dataframe tbody tr th:only-of-type {\n        vertical-align: middle;\n    }\n\n    .dataframe tbody tr th {\n        vertical-align: top;\n    }\n\n    .dataframe thead th {\n        text-align: right;\n    }\n</style>\n<table border=\"1\" class=\"dataframe\">\n  <thead>\n    <tr style=\"text-align: right;\">\n      <th></th>\n      <th>Year</th>\n      <th>Diff</th>\n      <th>home_standing</th>\n      <th>away_standing</th>\n      <th>Team_0</th>\n      <th>Team_1</th>\n      <th>Team_2</th>\n      <th>Team_3</th>\n      <th>Team_4</th>\n      <th>Team_5</th>\n      <th>Opponent_0</th>\n      <th>Opponent_1</th>\n      <th>Opponent_2</th>\n      <th>Opponent_3</th>\n      <th>Opponent_4</th>\n      <th>Opponent_5</th>\n    </tr>\n  </thead>\n  <tbody>\n    <tr>\n      <th>0</th>\n      <td>2014</td>\n      <td>8</td>\n      <td>80.19</td>\n      <td>73.13</td>\n      <td>0.0</td>\n      <td>0.0</td>\n      <td>0.0</td>\n      <td>0.0</td>\n      <td>0.0</td>\n      <td>1.0</td>\n      <td>0.0</td>\n      <td>0.0</td>\n      <td>0.0</td>\n      <td>1.0</td>\n      <td>0.0</td>\n      <td>0.0</td>\n    </tr>\n    <tr>\n      <th>1</th>\n      <td>2014</td>\n      <td>2</td>\n      <td>80.87</td>\n      <td>85.70</td>\n      <td>0.0</td>\n      <td>1.0</td>\n      <td>0.0</td>\n      <td>0.0</td>\n      <td>0.0</td>\n      <td>0.0</td>\n      <td>1.0</td>\n      <td>0.0</td>\n      <td>0.0</td>\n      <td>0.0</td>\n      <td>0.0</td>\n      <td>0.0</td>\n    </tr>\n    <tr>\n      <th>2</th>\n      <td>2019</td>\n      <td>-5</td>\n      <td>77.34</td>\n      <td>87.26</td>\n      <td>0.0</td>\n      <td>1.0</td>\n      <td>0.0</td>\n      <td>0.0</td>\n      <td>0.0</td>\n      <td>0.0</td>\n      <td>0.0</td>\n      <td>0.0</td>\n      <td>0.0</td>\n      <td>0.0</td>\n      <td>0.0</td>\n      <td>1.0</td>\n    </tr>\n    <tr>\n      <th>3</th>\n      <td>2020</td>\n      <td>7</td>\n      <td>84.24</td>\n      <td>81.21</td>\n      <td>0.0</td>\n      <td>0.0</td>\n      <td>1.0</td>\n      <td>0.0</td>\n      <td>0.0</td>\n      <td>0.0</td>\n      <td>0.0</td>\n      <td>0.0</td>\n      <td>0.0</td>\n      <td>0.0</td>\n      <td>1.0</td>\n      <td>0.0</td>\n    </tr>\n    <tr>\n      <th>4</th>\n      <td>2020</td>\n      <td>42</td>\n      <td>79.77</td>\n      <td>70.88</td>\n      <td>0.0</td>\n      <td>0.0</td>\n      <td>0.0</td>\n      <td>0.0</td>\n      <td>0.0</td>\n      <td>1.0</td>\n      <td>0.0</td>\n      <td>0.0</td>\n      <td>0.0</td>\n      <td>1.0</td>\n      <td>0.0</td>\n      <td>0.0</td>\n    </tr>\n  </tbody>\n</table>\n</div>"
     },
     "execution_count": 11,
     "metadata": {},
     "output_type": "execute_result"
    }
   ],
   "source": [
    "#On supprimme les colonnes Team et Opponent\n",
    "df = df.drop(\"Team\", axis='columns')\n",
    "df = df.drop(\"Opponent\", axis='columns')\n",
    "\n",
    "df.head()"
   ],
   "metadata": {
    "collapsed": false
   }
  },
  {
   "cell_type": "code",
   "execution_count": 12,
   "outputs": [
    {
     "data": {
      "text/plain": "   Year  home_standing  away_standing  Team_0  Team_1  Team_2  Team_3  Team_4  \\\n0  2014          80.19          73.13     0.0     0.0     0.0     0.0     0.0   \n1  2014          80.87          85.70     0.0     1.0     0.0     0.0     0.0   \n2  2019          77.34          87.26     0.0     1.0     0.0     0.0     0.0   \n3  2020          84.24          81.21     0.0     0.0     1.0     0.0     0.0   \n4  2020          79.77          70.88     0.0     0.0     0.0     0.0     0.0   \n\n   Team_5  Opponent_0  Opponent_1  Opponent_2  Opponent_3  Opponent_4  \\\n0     1.0         0.0         0.0         0.0         1.0         0.0   \n1     0.0         1.0         0.0         0.0         0.0         0.0   \n2     0.0         0.0         0.0         0.0         0.0         0.0   \n3     0.0         0.0         0.0         0.0         0.0         1.0   \n4     1.0         0.0         0.0         0.0         1.0         0.0   \n\n   Opponent_5  Diff  \n0         0.0     8  \n1         0.0     2  \n2         1.0    -5  \n3         0.0     7  \n4         0.0    42  ",
      "text/html": "<div>\n<style scoped>\n    .dataframe tbody tr th:only-of-type {\n        vertical-align: middle;\n    }\n\n    .dataframe tbody tr th {\n        vertical-align: top;\n    }\n\n    .dataframe thead th {\n        text-align: right;\n    }\n</style>\n<table border=\"1\" class=\"dataframe\">\n  <thead>\n    <tr style=\"text-align: right;\">\n      <th></th>\n      <th>Year</th>\n      <th>home_standing</th>\n      <th>away_standing</th>\n      <th>Team_0</th>\n      <th>Team_1</th>\n      <th>Team_2</th>\n      <th>Team_3</th>\n      <th>Team_4</th>\n      <th>Team_5</th>\n      <th>Opponent_0</th>\n      <th>Opponent_1</th>\n      <th>Opponent_2</th>\n      <th>Opponent_3</th>\n      <th>Opponent_4</th>\n      <th>Opponent_5</th>\n      <th>Diff</th>\n    </tr>\n  </thead>\n  <tbody>\n    <tr>\n      <th>0</th>\n      <td>2014</td>\n      <td>80.19</td>\n      <td>73.13</td>\n      <td>0.0</td>\n      <td>0.0</td>\n      <td>0.0</td>\n      <td>0.0</td>\n      <td>0.0</td>\n      <td>1.0</td>\n      <td>0.0</td>\n      <td>0.0</td>\n      <td>0.0</td>\n      <td>1.0</td>\n      <td>0.0</td>\n      <td>0.0</td>\n      <td>8</td>\n    </tr>\n    <tr>\n      <th>1</th>\n      <td>2014</td>\n      <td>80.87</td>\n      <td>85.70</td>\n      <td>0.0</td>\n      <td>1.0</td>\n      <td>0.0</td>\n      <td>0.0</td>\n      <td>0.0</td>\n      <td>0.0</td>\n      <td>1.0</td>\n      <td>0.0</td>\n      <td>0.0</td>\n      <td>0.0</td>\n      <td>0.0</td>\n      <td>0.0</td>\n      <td>2</td>\n    </tr>\n    <tr>\n      <th>2</th>\n      <td>2019</td>\n      <td>77.34</td>\n      <td>87.26</td>\n      <td>0.0</td>\n      <td>1.0</td>\n      <td>0.0</td>\n      <td>0.0</td>\n      <td>0.0</td>\n      <td>0.0</td>\n      <td>0.0</td>\n      <td>0.0</td>\n      <td>0.0</td>\n      <td>0.0</td>\n      <td>0.0</td>\n      <td>1.0</td>\n      <td>-5</td>\n    </tr>\n    <tr>\n      <th>3</th>\n      <td>2020</td>\n      <td>84.24</td>\n      <td>81.21</td>\n      <td>0.0</td>\n      <td>0.0</td>\n      <td>1.0</td>\n      <td>0.0</td>\n      <td>0.0</td>\n      <td>0.0</td>\n      <td>0.0</td>\n      <td>0.0</td>\n      <td>0.0</td>\n      <td>0.0</td>\n      <td>1.0</td>\n      <td>0.0</td>\n      <td>7</td>\n    </tr>\n    <tr>\n      <th>4</th>\n      <td>2020</td>\n      <td>79.77</td>\n      <td>70.88</td>\n      <td>0.0</td>\n      <td>0.0</td>\n      <td>0.0</td>\n      <td>0.0</td>\n      <td>0.0</td>\n      <td>1.0</td>\n      <td>0.0</td>\n      <td>0.0</td>\n      <td>0.0</td>\n      <td>1.0</td>\n      <td>0.0</td>\n      <td>0.0</td>\n      <td>42</td>\n    </tr>\n  </tbody>\n</table>\n</div>"
     },
     "execution_count": 12,
     "metadata": {},
     "output_type": "execute_result"
    }
   ],
   "source": [
    "#On replace la variable cible à la dernière colonne\n",
    "diff=df.pop('Diff')\n",
    "df.insert(15,'Diff',diff)\n",
    "df.head()"
   ],
   "metadata": {
    "collapsed": false
   }
  },
  {
   "cell_type": "code",
   "execution_count": 13,
   "outputs": [
    {
     "data": {
      "text/plain": "Year              object\nhome_standing    float64\naway_standing    float64\nTeam_0           float64\nTeam_1           float64\nTeam_2           float64\nTeam_3           float64\nTeam_4           float64\nTeam_5           float64\nOpponent_0       float64\nOpponent_1       float64\nOpponent_2       float64\nOpponent_3       float64\nOpponent_4       float64\nOpponent_5       float64\nDiff               int64\ndtype: object"
     },
     "execution_count": 13,
     "metadata": {},
     "output_type": "execute_result"
    }
   ],
   "source": [
    "#On vérifie le type des données\n",
    "df.dtypes"
   ],
   "metadata": {
    "collapsed": false
   }
  },
  {
   "cell_type": "code",
   "execution_count": 33,
   "outputs": [
    {
     "data": {
      "text/plain": "Year               int64\nhome_standing    float64\naway_standing    float64\nTeam_0           float64\nTeam_1           float64\nTeam_2           float64\nTeam_3           float64\nTeam_4           float64\nTeam_5           float64\nOpponent_0       float64\nOpponent_1       float64\nOpponent_2       float64\nOpponent_3       float64\nOpponent_4       float64\nOpponent_5       float64\nDiff               int64\ndtype: object"
     },
     "execution_count": 33,
     "metadata": {},
     "output_type": "execute_result"
    }
   ],
   "source": [
    "df['Year'] = df['Year'].astype(int)\n",
    "df.dtypes\n"
   ],
   "metadata": {
    "collapsed": false
   }
  },
  {
   "cell_type": "code",
   "execution_count": 15,
   "outputs": [
    {
     "name": "stdout",
     "output_type": "stream",
     "text": [
      "Shape of X:  (255, 15)\n",
      "Shape of Y:  (255, 1)\n"
     ]
    }
   ],
   "source": [
    "#On associe les colonnes aux X et Y\n",
    "X = df.loc[:, 'Year':'Opponent_5']\n",
    "X = X.values #Transforme en arrays (matrice d'arrays)\n",
    "print('Shape of X: ', X.shape)\n",
    "y = df.loc[:, 'Diff']\n",
    "y = y.values #Transforme en arrays (matrice d'arrays)\n",
    "y = y.reshape(y.shape[0],1)\n",
    "print('Shape of Y: ', y.shape)\n"
   ],
   "metadata": {
    "collapsed": false
   }
  },
  {
   "cell_type": "markdown",
   "source": [
    "## STANDART SCALER"
   ],
   "metadata": {
    "collapsed": false
   }
  },
  {
   "cell_type": "code",
   "execution_count": 16,
   "outputs": [],
   "source": [
    "X_train, X_test, y_train, y_test = train_test_split(X, y)"
   ],
   "metadata": {
    "collapsed": false
   }
  },
  {
   "cell_type": "code",
   "execution_count": 17,
   "outputs": [],
   "source": [
    "scaler = StandardScaler()\n",
    "X_train = scaler.fit_transform(X_train)\n",
    "X_test = scaler.transform(X_test)"
   ],
   "metadata": {
    "collapsed": false
   }
  },
  {
   "cell_type": "markdown",
   "source": [
    "## Entrainement de modèles"
   ],
   "metadata": {
    "collapsed": false
   }
  },
  {
   "cell_type": "markdown",
   "source": [
    "RÉGRESSION LINÉAIRE"
   ],
   "metadata": {
    "collapsed": false
   }
  },
  {
   "cell_type": "code",
   "execution_count": 18,
   "outputs": [],
   "source": [
    "from sklearn.linear_model import LinearRegression\n",
    "LR = LinearRegression()"
   ],
   "metadata": {
    "collapsed": false
   }
  },
  {
   "cell_type": "code",
   "execution_count": 19,
   "outputs": [
    {
     "data": {
      "text/plain": "LinearRegression()",
      "text/html": "<style>#sk-container-id-1 {color: black;background-color: white;}#sk-container-id-1 pre{padding: 0;}#sk-container-id-1 div.sk-toggleable {background-color: white;}#sk-container-id-1 label.sk-toggleable__label {cursor: pointer;display: block;width: 100%;margin-bottom: 0;padding: 0.3em;box-sizing: border-box;text-align: center;}#sk-container-id-1 label.sk-toggleable__label-arrow:before {content: \"▸\";float: left;margin-right: 0.25em;color: #696969;}#sk-container-id-1 label.sk-toggleable__label-arrow:hover:before {color: black;}#sk-container-id-1 div.sk-estimator:hover label.sk-toggleable__label-arrow:before {color: black;}#sk-container-id-1 div.sk-toggleable__content {max-height: 0;max-width: 0;overflow: hidden;text-align: left;background-color: #f0f8ff;}#sk-container-id-1 div.sk-toggleable__content pre {margin: 0.2em;color: black;border-radius: 0.25em;background-color: #f0f8ff;}#sk-container-id-1 input.sk-toggleable__control:checked~div.sk-toggleable__content {max-height: 200px;max-width: 100%;overflow: auto;}#sk-container-id-1 input.sk-toggleable__control:checked~label.sk-toggleable__label-arrow:before {content: \"▾\";}#sk-container-id-1 div.sk-estimator input.sk-toggleable__control:checked~label.sk-toggleable__label {background-color: #d4ebff;}#sk-container-id-1 div.sk-label input.sk-toggleable__control:checked~label.sk-toggleable__label {background-color: #d4ebff;}#sk-container-id-1 input.sk-hidden--visually {border: 0;clip: rect(1px 1px 1px 1px);clip: rect(1px, 1px, 1px, 1px);height: 1px;margin: -1px;overflow: hidden;padding: 0;position: absolute;width: 1px;}#sk-container-id-1 div.sk-estimator {font-family: monospace;background-color: #f0f8ff;border: 1px dotted black;border-radius: 0.25em;box-sizing: border-box;margin-bottom: 0.5em;}#sk-container-id-1 div.sk-estimator:hover {background-color: #d4ebff;}#sk-container-id-1 div.sk-parallel-item::after {content: \"\";width: 100%;border-bottom: 1px solid gray;flex-grow: 1;}#sk-container-id-1 div.sk-label:hover label.sk-toggleable__label {background-color: #d4ebff;}#sk-container-id-1 div.sk-serial::before {content: \"\";position: absolute;border-left: 1px solid gray;box-sizing: border-box;top: 0;bottom: 0;left: 50%;z-index: 0;}#sk-container-id-1 div.sk-serial {display: flex;flex-direction: column;align-items: center;background-color: white;padding-right: 0.2em;padding-left: 0.2em;position: relative;}#sk-container-id-1 div.sk-item {position: relative;z-index: 1;}#sk-container-id-1 div.sk-parallel {display: flex;align-items: stretch;justify-content: center;background-color: white;position: relative;}#sk-container-id-1 div.sk-item::before, #sk-container-id-1 div.sk-parallel-item::before {content: \"\";position: absolute;border-left: 1px solid gray;box-sizing: border-box;top: 0;bottom: 0;left: 50%;z-index: -1;}#sk-container-id-1 div.sk-parallel-item {display: flex;flex-direction: column;z-index: 1;position: relative;background-color: white;}#sk-container-id-1 div.sk-parallel-item:first-child::after {align-self: flex-end;width: 50%;}#sk-container-id-1 div.sk-parallel-item:last-child::after {align-self: flex-start;width: 50%;}#sk-container-id-1 div.sk-parallel-item:only-child::after {width: 0;}#sk-container-id-1 div.sk-dashed-wrapped {border: 1px dashed gray;margin: 0 0.4em 0.5em 0.4em;box-sizing: border-box;padding-bottom: 0.4em;background-color: white;}#sk-container-id-1 div.sk-label label {font-family: monospace;font-weight: bold;display: inline-block;line-height: 1.2em;}#sk-container-id-1 div.sk-label-container {text-align: center;}#sk-container-id-1 div.sk-container {/* jupyter's `normalize.less` sets `[hidden] { display: none; }` but bootstrap.min.css set `[hidden] { display: none !important; }` so we also need the `!important` here to be able to override the default hidden behavior on the sphinx rendered scikit-learn.org. See: https://github.com/scikit-learn/scikit-learn/issues/21755 */display: inline-block !important;position: relative;}#sk-container-id-1 div.sk-text-repr-fallback {display: none;}</style><div id=\"sk-container-id-1\" class=\"sk-top-container\"><div class=\"sk-text-repr-fallback\"><pre>LinearRegression()</pre><b>In a Jupyter environment, please rerun this cell to show the HTML representation or trust the notebook. <br />On GitHub, the HTML representation is unable to render, please try loading this page with nbviewer.org.</b></div><div class=\"sk-container\" hidden><div class=\"sk-item\"><div class=\"sk-estimator sk-toggleable\"><input class=\"sk-toggleable__control sk-hidden--visually\" id=\"sk-estimator-id-1\" type=\"checkbox\" checked><label for=\"sk-estimator-id-1\" class=\"sk-toggleable__label sk-toggleable__label-arrow\">LinearRegression</label><div class=\"sk-toggleable__content\"><pre>LinearRegression()</pre></div></div></div></div></div>"
     },
     "execution_count": 19,
     "metadata": {},
     "output_type": "execute_result"
    }
   ],
   "source": [
    "LR.fit(X_train, y_train)"
   ],
   "metadata": {
    "collapsed": false
   }
  },
  {
   "cell_type": "code",
   "execution_count": 20,
   "outputs": [],
   "source": [
    "prediction = LR.predict(X_test)"
   ],
   "metadata": {
    "collapsed": false
   }
  },
  {
   "cell_type": "code",
   "execution_count": 21,
   "outputs": [],
   "source": [
    "from sklearn.metrics import mean_absolute_error\n",
    "mae_score = mean_absolute_error(y_test, prediction)"
   ],
   "metadata": {
    "collapsed": false
   }
  },
  {
   "cell_type": "code",
   "execution_count": 22,
   "outputs": [
    {
     "name": "stdout",
     "output_type": "stream",
     "text": [
      "10.523395290908553\n"
     ]
    }
   ],
   "source": [
    "print(mae_score)"
   ],
   "metadata": {
    "collapsed": false
   }
  },
  {
   "cell_type": "markdown",
   "source": [
    "RÉGRESSION LASSO"
   ],
   "metadata": {
    "collapsed": false
   }
  },
  {
   "cell_type": "code",
   "execution_count": 23,
   "outputs": [],
   "source": [
    "from sklearn.linear_model import Lasso\n",
    "LA = Lasso()"
   ],
   "metadata": {
    "collapsed": false
   }
  },
  {
   "cell_type": "code",
   "execution_count": 24,
   "outputs": [
    {
     "data": {
      "text/plain": "Lasso()",
      "text/html": "<style>#sk-container-id-2 {color: black;background-color: white;}#sk-container-id-2 pre{padding: 0;}#sk-container-id-2 div.sk-toggleable {background-color: white;}#sk-container-id-2 label.sk-toggleable__label {cursor: pointer;display: block;width: 100%;margin-bottom: 0;padding: 0.3em;box-sizing: border-box;text-align: center;}#sk-container-id-2 label.sk-toggleable__label-arrow:before {content: \"▸\";float: left;margin-right: 0.25em;color: #696969;}#sk-container-id-2 label.sk-toggleable__label-arrow:hover:before {color: black;}#sk-container-id-2 div.sk-estimator:hover label.sk-toggleable__label-arrow:before {color: black;}#sk-container-id-2 div.sk-toggleable__content {max-height: 0;max-width: 0;overflow: hidden;text-align: left;background-color: #f0f8ff;}#sk-container-id-2 div.sk-toggleable__content pre {margin: 0.2em;color: black;border-radius: 0.25em;background-color: #f0f8ff;}#sk-container-id-2 input.sk-toggleable__control:checked~div.sk-toggleable__content {max-height: 200px;max-width: 100%;overflow: auto;}#sk-container-id-2 input.sk-toggleable__control:checked~label.sk-toggleable__label-arrow:before {content: \"▾\";}#sk-container-id-2 div.sk-estimator input.sk-toggleable__control:checked~label.sk-toggleable__label {background-color: #d4ebff;}#sk-container-id-2 div.sk-label input.sk-toggleable__control:checked~label.sk-toggleable__label {background-color: #d4ebff;}#sk-container-id-2 input.sk-hidden--visually {border: 0;clip: rect(1px 1px 1px 1px);clip: rect(1px, 1px, 1px, 1px);height: 1px;margin: -1px;overflow: hidden;padding: 0;position: absolute;width: 1px;}#sk-container-id-2 div.sk-estimator {font-family: monospace;background-color: #f0f8ff;border: 1px dotted black;border-radius: 0.25em;box-sizing: border-box;margin-bottom: 0.5em;}#sk-container-id-2 div.sk-estimator:hover {background-color: #d4ebff;}#sk-container-id-2 div.sk-parallel-item::after {content: \"\";width: 100%;border-bottom: 1px solid gray;flex-grow: 1;}#sk-container-id-2 div.sk-label:hover label.sk-toggleable__label {background-color: #d4ebff;}#sk-container-id-2 div.sk-serial::before {content: \"\";position: absolute;border-left: 1px solid gray;box-sizing: border-box;top: 0;bottom: 0;left: 50%;z-index: 0;}#sk-container-id-2 div.sk-serial {display: flex;flex-direction: column;align-items: center;background-color: white;padding-right: 0.2em;padding-left: 0.2em;position: relative;}#sk-container-id-2 div.sk-item {position: relative;z-index: 1;}#sk-container-id-2 div.sk-parallel {display: flex;align-items: stretch;justify-content: center;background-color: white;position: relative;}#sk-container-id-2 div.sk-item::before, #sk-container-id-2 div.sk-parallel-item::before {content: \"\";position: absolute;border-left: 1px solid gray;box-sizing: border-box;top: 0;bottom: 0;left: 50%;z-index: -1;}#sk-container-id-2 div.sk-parallel-item {display: flex;flex-direction: column;z-index: 1;position: relative;background-color: white;}#sk-container-id-2 div.sk-parallel-item:first-child::after {align-self: flex-end;width: 50%;}#sk-container-id-2 div.sk-parallel-item:last-child::after {align-self: flex-start;width: 50%;}#sk-container-id-2 div.sk-parallel-item:only-child::after {width: 0;}#sk-container-id-2 div.sk-dashed-wrapped {border: 1px dashed gray;margin: 0 0.4em 0.5em 0.4em;box-sizing: border-box;padding-bottom: 0.4em;background-color: white;}#sk-container-id-2 div.sk-label label {font-family: monospace;font-weight: bold;display: inline-block;line-height: 1.2em;}#sk-container-id-2 div.sk-label-container {text-align: center;}#sk-container-id-2 div.sk-container {/* jupyter's `normalize.less` sets `[hidden] { display: none; }` but bootstrap.min.css set `[hidden] { display: none !important; }` so we also need the `!important` here to be able to override the default hidden behavior on the sphinx rendered scikit-learn.org. See: https://github.com/scikit-learn/scikit-learn/issues/21755 */display: inline-block !important;position: relative;}#sk-container-id-2 div.sk-text-repr-fallback {display: none;}</style><div id=\"sk-container-id-2\" class=\"sk-top-container\"><div class=\"sk-text-repr-fallback\"><pre>Lasso()</pre><b>In a Jupyter environment, please rerun this cell to show the HTML representation or trust the notebook. <br />On GitHub, the HTML representation is unable to render, please try loading this page with nbviewer.org.</b></div><div class=\"sk-container\" hidden><div class=\"sk-item\"><div class=\"sk-estimator sk-toggleable\"><input class=\"sk-toggleable__control sk-hidden--visually\" id=\"sk-estimator-id-2\" type=\"checkbox\" checked><label for=\"sk-estimator-id-2\" class=\"sk-toggleable__label sk-toggleable__label-arrow\">Lasso</label><div class=\"sk-toggleable__content\"><pre>Lasso()</pre></div></div></div></div></div>"
     },
     "execution_count": 24,
     "metadata": {},
     "output_type": "execute_result"
    }
   ],
   "source": [
    "LA.fit(X_train, y_train)"
   ],
   "metadata": {
    "collapsed": false
   }
  },
  {
   "cell_type": "code",
   "execution_count": 25,
   "outputs": [
    {
     "name": "stdout",
     "output_type": "stream",
     "text": [
      "10.911094192552106\n"
     ]
    }
   ],
   "source": [
    "prediction = LA.predict(X_test)\n",
    "mae_score = mean_absolute_error(y_test, prediction)\n",
    "print(mae_score)"
   ],
   "metadata": {
    "collapsed": false
   }
  },
  {
   "cell_type": "markdown",
   "source": [
    "RÉGRESSION RIDGE"
   ],
   "metadata": {
    "collapsed": false
   }
  },
  {
   "cell_type": "code",
   "execution_count": 26,
   "outputs": [
    {
     "data": {
      "text/plain": "Ridge()",
      "text/html": "<style>#sk-container-id-3 {color: black;background-color: white;}#sk-container-id-3 pre{padding: 0;}#sk-container-id-3 div.sk-toggleable {background-color: white;}#sk-container-id-3 label.sk-toggleable__label {cursor: pointer;display: block;width: 100%;margin-bottom: 0;padding: 0.3em;box-sizing: border-box;text-align: center;}#sk-container-id-3 label.sk-toggleable__label-arrow:before {content: \"▸\";float: left;margin-right: 0.25em;color: #696969;}#sk-container-id-3 label.sk-toggleable__label-arrow:hover:before {color: black;}#sk-container-id-3 div.sk-estimator:hover label.sk-toggleable__label-arrow:before {color: black;}#sk-container-id-3 div.sk-toggleable__content {max-height: 0;max-width: 0;overflow: hidden;text-align: left;background-color: #f0f8ff;}#sk-container-id-3 div.sk-toggleable__content pre {margin: 0.2em;color: black;border-radius: 0.25em;background-color: #f0f8ff;}#sk-container-id-3 input.sk-toggleable__control:checked~div.sk-toggleable__content {max-height: 200px;max-width: 100%;overflow: auto;}#sk-container-id-3 input.sk-toggleable__control:checked~label.sk-toggleable__label-arrow:before {content: \"▾\";}#sk-container-id-3 div.sk-estimator input.sk-toggleable__control:checked~label.sk-toggleable__label {background-color: #d4ebff;}#sk-container-id-3 div.sk-label input.sk-toggleable__control:checked~label.sk-toggleable__label {background-color: #d4ebff;}#sk-container-id-3 input.sk-hidden--visually {border: 0;clip: rect(1px 1px 1px 1px);clip: rect(1px, 1px, 1px, 1px);height: 1px;margin: -1px;overflow: hidden;padding: 0;position: absolute;width: 1px;}#sk-container-id-3 div.sk-estimator {font-family: monospace;background-color: #f0f8ff;border: 1px dotted black;border-radius: 0.25em;box-sizing: border-box;margin-bottom: 0.5em;}#sk-container-id-3 div.sk-estimator:hover {background-color: #d4ebff;}#sk-container-id-3 div.sk-parallel-item::after {content: \"\";width: 100%;border-bottom: 1px solid gray;flex-grow: 1;}#sk-container-id-3 div.sk-label:hover label.sk-toggleable__label {background-color: #d4ebff;}#sk-container-id-3 div.sk-serial::before {content: \"\";position: absolute;border-left: 1px solid gray;box-sizing: border-box;top: 0;bottom: 0;left: 50%;z-index: 0;}#sk-container-id-3 div.sk-serial {display: flex;flex-direction: column;align-items: center;background-color: white;padding-right: 0.2em;padding-left: 0.2em;position: relative;}#sk-container-id-3 div.sk-item {position: relative;z-index: 1;}#sk-container-id-3 div.sk-parallel {display: flex;align-items: stretch;justify-content: center;background-color: white;position: relative;}#sk-container-id-3 div.sk-item::before, #sk-container-id-3 div.sk-parallel-item::before {content: \"\";position: absolute;border-left: 1px solid gray;box-sizing: border-box;top: 0;bottom: 0;left: 50%;z-index: -1;}#sk-container-id-3 div.sk-parallel-item {display: flex;flex-direction: column;z-index: 1;position: relative;background-color: white;}#sk-container-id-3 div.sk-parallel-item:first-child::after {align-self: flex-end;width: 50%;}#sk-container-id-3 div.sk-parallel-item:last-child::after {align-self: flex-start;width: 50%;}#sk-container-id-3 div.sk-parallel-item:only-child::after {width: 0;}#sk-container-id-3 div.sk-dashed-wrapped {border: 1px dashed gray;margin: 0 0.4em 0.5em 0.4em;box-sizing: border-box;padding-bottom: 0.4em;background-color: white;}#sk-container-id-3 div.sk-label label {font-family: monospace;font-weight: bold;display: inline-block;line-height: 1.2em;}#sk-container-id-3 div.sk-label-container {text-align: center;}#sk-container-id-3 div.sk-container {/* jupyter's `normalize.less` sets `[hidden] { display: none; }` but bootstrap.min.css set `[hidden] { display: none !important; }` so we also need the `!important` here to be able to override the default hidden behavior on the sphinx rendered scikit-learn.org. See: https://github.com/scikit-learn/scikit-learn/issues/21755 */display: inline-block !important;position: relative;}#sk-container-id-3 div.sk-text-repr-fallback {display: none;}</style><div id=\"sk-container-id-3\" class=\"sk-top-container\"><div class=\"sk-text-repr-fallback\"><pre>Ridge()</pre><b>In a Jupyter environment, please rerun this cell to show the HTML representation or trust the notebook. <br />On GitHub, the HTML representation is unable to render, please try loading this page with nbviewer.org.</b></div><div class=\"sk-container\" hidden><div class=\"sk-item\"><div class=\"sk-estimator sk-toggleable\"><input class=\"sk-toggleable__control sk-hidden--visually\" id=\"sk-estimator-id-3\" type=\"checkbox\" checked><label for=\"sk-estimator-id-3\" class=\"sk-toggleable__label sk-toggleable__label-arrow\">Ridge</label><div class=\"sk-toggleable__content\"><pre>Ridge()</pre></div></div></div></div></div>"
     },
     "execution_count": 26,
     "metadata": {},
     "output_type": "execute_result"
    }
   ],
   "source": [
    "from sklearn.linear_model import Ridge\n",
    "RI = Ridge()\n",
    "RI.fit(X_train, y_train)"
   ],
   "metadata": {
    "collapsed": false
   }
  },
  {
   "cell_type": "code",
   "execution_count": 27,
   "outputs": [
    {
     "name": "stdout",
     "output_type": "stream",
     "text": [
      "10.517984769474268\n"
     ]
    }
   ],
   "source": [
    "prediction = RI.predict(X_test)\n",
    "mae_score = mean_absolute_error(y_test, prediction)\n",
    "print(mae_score)"
   ],
   "metadata": {
    "collapsed": false
   }
  },
  {
   "cell_type": "markdown",
   "source": [
    "RÉGRESSION ELASTIC NET"
   ],
   "metadata": {
    "collapsed": false
   }
  },
  {
   "cell_type": "code",
   "execution_count": 28,
   "outputs": [
    {
     "data": {
      "text/plain": "ElasticNet()",
      "text/html": "<style>#sk-container-id-4 {color: black;background-color: white;}#sk-container-id-4 pre{padding: 0;}#sk-container-id-4 div.sk-toggleable {background-color: white;}#sk-container-id-4 label.sk-toggleable__label {cursor: pointer;display: block;width: 100%;margin-bottom: 0;padding: 0.3em;box-sizing: border-box;text-align: center;}#sk-container-id-4 label.sk-toggleable__label-arrow:before {content: \"▸\";float: left;margin-right: 0.25em;color: #696969;}#sk-container-id-4 label.sk-toggleable__label-arrow:hover:before {color: black;}#sk-container-id-4 div.sk-estimator:hover label.sk-toggleable__label-arrow:before {color: black;}#sk-container-id-4 div.sk-toggleable__content {max-height: 0;max-width: 0;overflow: hidden;text-align: left;background-color: #f0f8ff;}#sk-container-id-4 div.sk-toggleable__content pre {margin: 0.2em;color: black;border-radius: 0.25em;background-color: #f0f8ff;}#sk-container-id-4 input.sk-toggleable__control:checked~div.sk-toggleable__content {max-height: 200px;max-width: 100%;overflow: auto;}#sk-container-id-4 input.sk-toggleable__control:checked~label.sk-toggleable__label-arrow:before {content: \"▾\";}#sk-container-id-4 div.sk-estimator input.sk-toggleable__control:checked~label.sk-toggleable__label {background-color: #d4ebff;}#sk-container-id-4 div.sk-label input.sk-toggleable__control:checked~label.sk-toggleable__label {background-color: #d4ebff;}#sk-container-id-4 input.sk-hidden--visually {border: 0;clip: rect(1px 1px 1px 1px);clip: rect(1px, 1px, 1px, 1px);height: 1px;margin: -1px;overflow: hidden;padding: 0;position: absolute;width: 1px;}#sk-container-id-4 div.sk-estimator {font-family: monospace;background-color: #f0f8ff;border: 1px dotted black;border-radius: 0.25em;box-sizing: border-box;margin-bottom: 0.5em;}#sk-container-id-4 div.sk-estimator:hover {background-color: #d4ebff;}#sk-container-id-4 div.sk-parallel-item::after {content: \"\";width: 100%;border-bottom: 1px solid gray;flex-grow: 1;}#sk-container-id-4 div.sk-label:hover label.sk-toggleable__label {background-color: #d4ebff;}#sk-container-id-4 div.sk-serial::before {content: \"\";position: absolute;border-left: 1px solid gray;box-sizing: border-box;top: 0;bottom: 0;left: 50%;z-index: 0;}#sk-container-id-4 div.sk-serial {display: flex;flex-direction: column;align-items: center;background-color: white;padding-right: 0.2em;padding-left: 0.2em;position: relative;}#sk-container-id-4 div.sk-item {position: relative;z-index: 1;}#sk-container-id-4 div.sk-parallel {display: flex;align-items: stretch;justify-content: center;background-color: white;position: relative;}#sk-container-id-4 div.sk-item::before, #sk-container-id-4 div.sk-parallel-item::before {content: \"\";position: absolute;border-left: 1px solid gray;box-sizing: border-box;top: 0;bottom: 0;left: 50%;z-index: -1;}#sk-container-id-4 div.sk-parallel-item {display: flex;flex-direction: column;z-index: 1;position: relative;background-color: white;}#sk-container-id-4 div.sk-parallel-item:first-child::after {align-self: flex-end;width: 50%;}#sk-container-id-4 div.sk-parallel-item:last-child::after {align-self: flex-start;width: 50%;}#sk-container-id-4 div.sk-parallel-item:only-child::after {width: 0;}#sk-container-id-4 div.sk-dashed-wrapped {border: 1px dashed gray;margin: 0 0.4em 0.5em 0.4em;box-sizing: border-box;padding-bottom: 0.4em;background-color: white;}#sk-container-id-4 div.sk-label label {font-family: monospace;font-weight: bold;display: inline-block;line-height: 1.2em;}#sk-container-id-4 div.sk-label-container {text-align: center;}#sk-container-id-4 div.sk-container {/* jupyter's `normalize.less` sets `[hidden] { display: none; }` but bootstrap.min.css set `[hidden] { display: none !important; }` so we also need the `!important` here to be able to override the default hidden behavior on the sphinx rendered scikit-learn.org. See: https://github.com/scikit-learn/scikit-learn/issues/21755 */display: inline-block !important;position: relative;}#sk-container-id-4 div.sk-text-repr-fallback {display: none;}</style><div id=\"sk-container-id-4\" class=\"sk-top-container\"><div class=\"sk-text-repr-fallback\"><pre>ElasticNet()</pre><b>In a Jupyter environment, please rerun this cell to show the HTML representation or trust the notebook. <br />On GitHub, the HTML representation is unable to render, please try loading this page with nbviewer.org.</b></div><div class=\"sk-container\" hidden><div class=\"sk-item\"><div class=\"sk-estimator sk-toggleable\"><input class=\"sk-toggleable__control sk-hidden--visually\" id=\"sk-estimator-id-4\" type=\"checkbox\" checked><label for=\"sk-estimator-id-4\" class=\"sk-toggleable__label sk-toggleable__label-arrow\">ElasticNet</label><div class=\"sk-toggleable__content\"><pre>ElasticNet()</pre></div></div></div></div></div>"
     },
     "execution_count": 28,
     "metadata": {},
     "output_type": "execute_result"
    }
   ],
   "source": [
    "from sklearn.linear_model import ElasticNet\n",
    "EN = ElasticNet()\n",
    "EN.fit(X_train, y_train)"
   ],
   "metadata": {
    "collapsed": false
   }
  },
  {
   "cell_type": "code",
   "execution_count": 29,
   "outputs": [
    {
     "name": "stdout",
     "output_type": "stream",
     "text": [
      "11.086595721908061\n"
     ]
    }
   ],
   "source": [
    "prediction = EN.predict(X_test)\n",
    "mae_score = mean_absolute_error(y_test, prediction)\n",
    "print(mae_score)"
   ],
   "metadata": {
    "collapsed": false
   }
  },
  {
   "cell_type": "markdown",
   "source": [
    "RÉGRESSION RANDOM FOREST"
   ],
   "metadata": {
    "collapsed": false
   }
  },
  {
   "cell_type": "code",
   "execution_count": 30,
   "outputs": [],
   "source": [
    "from sklearn.ensemble import RandomForestRegressor\n",
    "RFR = RandomForestRegressor(max_depth=3)\n",
    "y_train = y_train.ravel()"
   ],
   "metadata": {
    "collapsed": false
   }
  },
  {
   "cell_type": "code",
   "execution_count": 31,
   "outputs": [
    {
     "name": "stdout",
     "output_type": "stream",
     "text": [
      "11.326328067095458\n"
     ]
    }
   ],
   "source": [
    "RFR.fit(X_train, y_train)\n",
    "prediction = RFR.predict(X_test)\n",
    "mae_score = mean_absolute_error(y_test, prediction)\n",
    "print(mae_score)"
   ],
   "metadata": {
    "collapsed": false
   }
  },
  {
   "cell_type": "code",
   "execution_count": 31,
   "outputs": [],
   "source": [],
   "metadata": {
    "collapsed": false
   }
  }
 ],
 "metadata": {
  "kernelspec": {
   "display_name": "Python 3",
   "language": "python",
   "name": "python3"
  },
  "language_info": {
   "codemirror_mode": {
    "name": "ipython",
    "version": 2
   },
   "file_extension": ".py",
   "mimetype": "text/x-python",
   "name": "python",
   "nbconvert_exporter": "python",
   "pygments_lexer": "ipython2",
   "version": "2.7.6"
  }
 },
 "nbformat": 4,
 "nbformat_minor": 0
}
